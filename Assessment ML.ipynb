{
 "cells": [
  {
   "cell_type": "markdown",
   "id": "d4da6935",
   "metadata": {},
   "source": [
    "## ASSESSMENT : MACHINE LEARNING"
   ]
  },
  {
   "cell_type": "markdown",
   "id": "0f2e1362",
   "metadata": {},
   "source": [
    "### Question 1. How to Implement the KNN Classification Algorithm?"
   ]
  },
  {
   "cell_type": "markdown",
   "id": "be8a1926",
   "metadata": {},
   "source": [
    "Implementing the k-nearest neighbors (KNN) classification algorithm involves several steps. I'll walk you through the process of implementing KNN in Python using the scikit-learn library, one of the most popular libraries for machine learning tasks. Here's a step-by-step guide:\n",
    "\n",
    "#### Step 1: Import Libraries\n",
    "#### Step 2: Load Data\n",
    "#### Step 3: Split Data into Training and Testing Sets\n",
    "#### Step 4: Initialize and Train the KNN Classifier\n",
    "#### Step 5: Make Predictions\n",
    "#### Step 6: Evaluate the Model"
   ]
  },
  {
   "cell_type": "markdown",
   "id": "0bd27d62",
   "metadata": {},
   "source": [
    "### Question 2. Build a logistic regression model on the ‘customer churn’ datasetin Python. The dependent variable is ‘Churn’ and the independent variable is ‘Monthly Charges.’ Find the log loss of the model."
   ]
  },
  {
   "cell_type": "code",
   "execution_count": 1,
   "id": "813f9e78",
   "metadata": {},
   "outputs": [],
   "source": [
    "import pandas as pd\n",
    "from sklearn.model_selection import train_test_split\n",
    "from sklearn.linear_model import LogisticRegression\n",
    "from sklearn.metrics import log_loss"
   ]
  },
  {
   "cell_type": "code",
   "execution_count": 2,
   "id": "c8e3de79",
   "metadata": {},
   "outputs": [],
   "source": [
    "data = pd.read_csv('Telco-Customer-Churn.csv')\n",
    "\n",
    "X = data[['MonthlyCharges']]\n",
    "y = data['Churn']"
   ]
  },
  {
   "cell_type": "code",
   "execution_count": 3,
   "id": "074dfc3e",
   "metadata": {},
   "outputs": [],
   "source": [
    "X_train, X_test, y_train, y_test = train_test_split(X, y, test_size=0.2, random_state=42)"
   ]
  },
  {
   "cell_type": "code",
   "execution_count": 4,
   "id": "296cb756",
   "metadata": {},
   "outputs": [
    {
     "data": {
      "text/plain": [
       "LogisticRegression()"
      ]
     },
     "execution_count": 4,
     "metadata": {},
     "output_type": "execute_result"
    }
   ],
   "source": [
    "model = LogisticRegression()\n",
    "\n",
    "model.fit(X_train, y_train)"
   ]
  },
  {
   "cell_type": "code",
   "execution_count": 7,
   "id": "b0a822ed",
   "metadata": {},
   "outputs": [
    {
     "data": {
      "text/plain": [
       "array([[0.84109615, 0.15890385],\n",
       "       [0.84019159, 0.15980841],\n",
       "       [0.85172389, 0.14827611],\n",
       "       ...,\n",
       "       [0.85067859, 0.14932141],\n",
       "       [0.79883882, 0.20116118],\n",
       "       [0.8275156 , 0.1724844 ]])"
      ]
     },
     "execution_count": 7,
     "metadata": {},
     "output_type": "execute_result"
    }
   ],
   "source": [
    "y_pred_proba = model.predict_proba(X_test)\n",
    "\n",
    "y_pred_proba"
   ]
  },
  {
   "cell_type": "code",
   "execution_count": 6,
   "id": "a54f95f7",
   "metadata": {},
   "outputs": [
    {
     "name": "stdout",
     "output_type": "stream",
     "text": [
      "Log Loss: 0.55\n"
     ]
    }
   ],
   "source": [
    "log_loss_value = log_loss(y_test, y_pred_proba)\n",
    "\n",
    "print(\"Log Loss: {:.2f}\".format(log_loss_value))"
   ]
  },
  {
   "cell_type": "code",
   "execution_count": null,
   "id": "4b9098b3",
   "metadata": {},
   "outputs": [],
   "source": []
  }
 ],
 "metadata": {
  "kernelspec": {
   "display_name": "Python 3 (ipykernel)",
   "language": "python",
   "name": "python3"
  },
  "language_info": {
   "codemirror_mode": {
    "name": "ipython",
    "version": 3
   },
   "file_extension": ".py",
   "mimetype": "text/x-python",
   "name": "python",
   "nbconvert_exporter": "python",
   "pygments_lexer": "ipython3",
   "version": "3.9.13"
  }
 },
 "nbformat": 4,
 "nbformat_minor": 5
}
